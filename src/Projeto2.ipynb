{
 "cells": [
  {
   "cell_type": "markdown",
   "metadata": {},
   "source": [
    "# Projeto 2 - Modelagem e Simulação do Mundo Físico\n",
    "\n",
    "**Alunos: Davi Reis Vieira de Souza | Francisco Pinheiro Janela | Nicolas Maciel Queiroga**\n",
    "\n",
    "**Objetivo: Implementação de um forno de cozinha.**\n",
    "\n",
    "**(1) Introdução**\n",
    "\n",
    "<left><img src=\"fornoEletrico.png\" width=300 style=\"float: center; margin: 0px 0px 10px 10px\"></left>\n",
    "<left><b>Figura 1: Forno elétrico de cozinha</b></left>\n",
    "\n",
    "Para uma confeiteira caseira, o forno elétrico é uma das principais máquinas utilizadas para produzir seus produtos. Vamos desenvolver um modelo que represente essa máquina para responder às seguintes perguntas:\n",
    "\n",
    "- **Qual o tempo necessário para se estabilizar a temperatura escolhida pela confeiteira?**\n",
    "- **Qual a variação entre a temperatura do vidro e a temperatura interna do forno para cada temperatura escolhida pela confeiteira?**\n",
    "\n",
    "Para isso, utilizaremos um forno de $46,5cm$ x $37,2cm$ x $42,0cm$. A temperatura de controle e validação será $220 °C$, e as temperaturas escolhidas pelo padeiro serão: $180$, $200$, $220$, $240$, $260$, $280$, $300$, $320$, $340$ e $360$ graus Celsius."
   ]
  },
  {
   "cell_type": "code",
   "execution_count": 1,
   "metadata": {},
   "outputs": [],
   "source": [
    "#Importando Bibliotecas para o nosso Projeto\n",
    "import matplotlib.pyplot as plt\n",
    "import numpy as np\n",
    "from scipy.integrate import odeint\n",
    "import math\n",
    "\n",
    "%matplotlib inline\n",
    "from ipywidgets import interactive"
   ]
  },
  {
   "cell_type": "markdown",
   "metadata": {},
   "source": [
    "**(1.1) Obtenção de Dados Experimentais**\n",
    "\n",
    "Para um tempo de 3 horas, foi medida a temperatura de um forno elétrico usando o visor de temperatura da máquina (indica a temperatura interna do forno) e um termometro para medir a temperatura externa do vidro. Os daddos obtidos foram plotados em um gráfico:"
   ]
  },
  {
   "cell_type": "code",
   "execution_count": 2,
   "metadata": {},
   "outputs": [],
   "source": [
    "#criando a lista de dados medidos pela equipe do forno eletrico.\n",
    "def DadosMedidos():    \n",
    "    listaTempoMedido_min = np.arange(0, 180, 6)\n",
    "    listaTemperaturaMedida_forno= [25.4,65.8,108.2,141.6,176.0,184.7,203.0,212.8,218.3,218.5,219.2,218.8,219.7,218.4,219.0,219.5,220.2,219.8,219.4,219.7,218.8,219.5,220.0,219.6,219,219.4,219.8,219.6,219.4,220.1]\n",
    "    listaTemperaturaMedida_vidro= [24,25,25,26,27,28,29,30,31,32,33,34,35,36,37,39,40,41,42,43,44,45,46,47,47,48,48,49,49,49]\n",
    "    return listaTempoMedido_min, listaTemperaturaMedida_forno, listaTemperaturaMedida_vidro\n"
   ]
  },
  {
   "cell_type": "markdown",
   "metadata": {},
   "source": [
    "**(1.2) Plotando o gráfico com os dados obtidos:** "
   ]
  },
  {
   "cell_type": "code",
   "execution_count": 3,
   "metadata": {},
   "outputs": [
    {
     "data": {
      "image/png": "[encoded data removed]",
      "text/plain": [
       "<Figure size 432x288 with 1 Axes>"
      ]
     },
     "metadata": {
      "needs_background": "light"
     },
     "output_type": "display_data"
    }
   ],
   "source": [
    "#plotando os dados experimentais medidos pela equipe:\n",
    "ax=plt.axes()\n",
    "plt.plot((DadosMedidos()[0]/60), DadosMedidos()[1], 'ro', markersize=4, label='Temperatura do Forno')\n",
    "plt.plot((DadosMedidos()[0]/60), DadosMedidos()[2], 'co', markersize=4, label='Temperatura do Vidro')\n",
    "plt.axis([-0.5, (max(DadosMedidos()[0])/60)+0.3, 0, max(DadosMedidos()[1])+10])\n",
    "plt.xlabel(\"Tempo (h)\")\n",
    "plt.ylabel(\"Temperatura (°C)\")\n",
    "plt.title('Dados Experimentais')\n",
    "plt.legend()\n",
    "plt.grid(True)\n",
    "plt.show()\n",
    "\n"
   ]
  },
  {
   "cell_type": "markdown",
   "metadata": {},
   "source": [
    "**(2) Modelo inicial:**\n",
    "\n",
    "Para nosso primeiro modelo, consideramos as paredes perfeitamente isolantes e a única saída de calor é a porta de vidro, composta por um único painel que cobre toda a frente:\n",
    "\n",
    "<left><img src=\"modelo_1iteracao.png\" width=400 style=\"float: center; margin: 0px 0px 10px 10px\"></left>\n",
    "<left><b>Figura 2: Sistema térmico do forno de cozinha</b></left>\n",
    "\n",
    "Depois criamos o modelo de Estoques e Fluxos:\n",
    "\n",
    "<left><img src=\"E&F_1iteracao.png\" width=800 style=\"float: center; margin: 0px 0px 10px 10px\"> \n",
    "    <b>Figura 3: Primeiro modelo de estoques e fluxos</b></left>\n",
    "\n",
    "Para implementar o modelo por ODEINT, vamos usar as fórmulas abaixo para facilitar o programa:\n",
    "\n",
    "$\\frac{dTar}{dt}=\\frac{1}{mar\\cdot car}\\cdot[\\dot{Q_1}-\\dot{Q_v}]$\n",
    "\n",
    "$\\frac{dTvidro}{dt}=\\frac{1}{mvidro\\cdot cvidro}\\cdot[\\dot{Q_v}-\\dot{Q_2}]$\n",
    "\n",
    "Sendo:\n",
    "\n",
    "$\\dot{Q_1}=P$\n",
    "\n",
    "$\\dot{Q_v}=\\frac{Tar-Tvidro}{\\frac{dvidro}{kvidro\\cdot Avidro}}$\n",
    "\n",
    "$\\dot{Q_2}=\\frac{Tvidro-Tamb}{\\frac{dvidro}{kvidro\\cdot Avidro}+\\frac{1}{har\\cdot Avidro}}$\n",
    "\n",
    "\n",
    "Abaixo, inicializamos todos os parâmetros do problema. As unidades estão todas no S.I. para evitar conversões dentro do programa."
   ]
  },
  {
   "cell_type": "code",
   "execution_count": 4,
   "metadata": {},
   "outputs": [],
   "source": [
    "#densidade do Ar: 1225 kg/m3\n",
    "Dar=1225\n",
    "#densidade do Vidro: 2535 kg/m3\n",
    "Dvidro=2535  \n",
    "#volume de Ar (Tamanho do forno utilizado)\n",
    "Var=46.5*37.2*42.0*1e-6\n",
    "#Área do painel de vidro (m2)\n",
    "Avidro=40*25.2*1e-4\n",
    "#volume da parede de vidro (m3)\n",
    "Vvidro=Avidro*1.2*1e-2\n",
    "#massa de Ar (kg)\n",
    "mar=Dar*Var\n",
    "#massa do Vidro (kg)\n",
    "mvidro=Dvidro*Vvidro\n",
    "#calor específico do Ar: 1004 J/kgK \n",
    "car=1004\n",
    "#calor específico do Vidro:900 J/kgK \n",
    "cvidro=900\n",
    "#temperatura ambiente, em kelvin\n",
    "Ta=25+273.15\n",
    "#espessura do painel de vidro: 1.2cm --> 0.012m: vamos dividi-lo ao meio na modelagem da condução térmica\n",
    "dvidro=0.012/2\n",
    "#condutividade térmica do Vidro --> 0.8W/mK\n",
    "kvidro=0.8\n",
    "#coeficiente de transferência convectiva das paredes do Vidro para o Ambiente --> 2W/m2K\n",
    "har=2\n",
    "#potência térmica do Forno --> 7kW\n",
    "P=7000"
   ]
  },
  {
   "cell_type": "markdown",
   "metadata": {},
   "source": [
    "**(2.1) Implementando a função que representa as equações diferenciais**"
   ]
  },
  {
   "cell_type": "code",
   "execution_count": 5,
   "metadata": {},
   "outputs": [],
   "source": [
    "#Função do modelo da 1ª iteração:\n",
    "def modelo_v1(x,t):\n",
    "    Tar=x[0]\n",
    "    Tvidro=x[1]\n",
    "    Q1=P\n",
    "    Qv=(Tar-Tvidro)/(dvidro/(kvidro*Avidro))\n",
    "    Q2=(Tvidro-Ta)/((dvidro/(kvidro*Avidro))+(1/(har*Avidro)))\n",
    "    dTardt=(Q1-Qv)/(mar*car)\n",
    "    dTvidrodt=(Qv-Q2)/(mvidro*cvidro)\n",
    "    dxdt=[dTardt, dTvidrodt]\n",
    "    return dxdt"
   ]
  },
  {
   "cell_type": "markdown",
   "metadata": {},
   "source": [
    "**(2.2) Implementação do modelo**\n",
    "\n",
    "Usando a biblioteca numpy, criamos a lista temporal de 3 horas, considerando um espaçamento temporal de segundo em segundo. Considerando a temperatura ambiente como variável inicial dos estoques, gerando o gráfico com ODEINT, temos:"
   ]
  },
  {
   "cell_type": "code",
   "execution_count": 6,
   "metadata": {},
   "outputs": [
    {
     "data": {
      "image/png": "[encoded data removed]",
      "text/plain": [
       "<Figure size 432x288 with 1 Axes>"
      ]
     },
     "metadata": {
      "needs_background": "light"
     },
     "output_type": "display_data"
    }
   ],
   "source": [
    "delta_t=1\n",
    "lista_tempo = np.arange(0, 10800, delta_t)\n",
    "x_0=[Ta, Ta]\n",
    "\n",
    "x=odeint(modelo_v1, x_0, lista_tempo)\n",
    "\n",
    "lista_Tar_celsius=[temp-273.15 for temp in x[:,0]]\n",
    "lista_Tvidro_celsius=[temp-273.15 for temp in x[:,1]]\n",
    "lista_tempo_horas=[t/3600 for t in lista_tempo]\n",
    "\n",
    "ax=plt.axes()\n",
    "plt.plot(lista_tempo_horas, lista_Tvidro_celsius, color='cyan', linewidth=2, label='Tvidro')\n",
    "plt.plot(lista_tempo_horas, lista_Tar_celsius, color='red', linewidth=2, label='Tar')\n",
    "plt.title('Primeiro Modelo')\n",
    "plt.ylabel(\"Temperatura (°C)\")\n",
    "plt.xlabel(\"Tempo (h)\")\n",
    "plt.legend(framealpha=False)\n",
    "plt.grid(True)"
   ]
  },
  {
   "cell_type": "markdown",
   "metadata": {},
   "source": [
    "**(3) Primeira Iteração**\n",
    "\n",
    "Ao revisar o modelo, vamos implementar 2 mudanças para a primeira iteração: vamos considerar as paredes do forno (as laterais, em cima e atrás) compostas de uma placa de fibra de cerâmica revestidas por placas finas de aço (estética) e que haverá o input de temperatura que a confeiteira vai utilizar.\n",
    "\n",
    "<left><img src=\"modelo_2iteracao.png\" width=400 style=\"float: center; margin: 0px 0px 10px 10px\"></left>\n",
    "<left><b>Figura 4: 1ª iteração do sistema térmico do forno de cozinha</b></left>\n",
    "\n",
    "Abaixo, temos o diagrama de estoques e fluxos, onde Tuser é o input de temperatura do forno:\n",
    "\n",
    "<left><img src=\"E&F_2iteracao.png\" width=800 style=\"float: center; margin: 0px 0px 10px 10px\"> \n",
    "<b>Figura 5: Modelo de estoques e fluxos da primeira iteração</b></left>\n",
    "\n",
    "Para facilitar a implementação, as equações que representam a iteração: \n",
    "\n",
    "$\\frac{dTar}{dt}=\\frac{1}{mar\\cdot car}\\cdot[\\dot{Q_1}-\\dot{Q_v}-\\dot{Q_s}]$\n",
    "\n",
    "$\\frac{dTvidro}{dt}=\\frac{1}{mvidro\\cdot cvidro}\\cdot[\\dot{Q_v}-\\dot{Q_2}]$\n",
    "\n",
    "Sendo:\n",
    "\n",
    "$\\dot{Q_1}=P$, para Tar < Tuser-30\n",
    "\n",
    "$\\dot{Q_1}=P*1-\\frac{Tar-(Tuser-30)}{30}$, para Tar >= Tuser-30\n",
    "\n",
    "$\\dot{Q_v}=\\frac{Tar-Tvidro}{\\frac{\\frac{dvidro}{2}}{kvidro\\cdot Avidro}}$\n",
    "\n",
    "$\\dot{Q_s}=\\frac{Tar-Tamb}{\\frac{2*daco}{kaco\\cdot At}+\\frac{dceramica}{kceramica\\cdot At}+\\frac{1}{har\\cdot At}}$\n",
    "\n",
    "$\\dot{Q_2}=\\frac{Tvidro-Tamb}{\\frac{\\frac{dvidro}{2}}{kvidro\\cdot Avidro}+\\frac{1}{har\\cdot Avidro}}$\n",
    "\n",
    "\n",
    "Adicionando, então, os novos parâmetros do modelo temos:"
   ]
  },
  {
   "cell_type": "code",
   "execution_count": 7,
   "metadata": {},
   "outputs": [],
   "source": [
    "#condutividade térmica do Aço --> 52W/mK\n",
    "kaco=52\n",
    "#condutividade térmica da Fibra de Cerâmica --> 0.08W/mK\n",
    "kceramica=0.08\n",
    "#espessura do Aço: 0.4cm --> 0.004m\n",
    "daco=0.004\n",
    "#espessura da fibra de Cerâmica: 5.0cm --> 0.05m\n",
    "dceramica=0.05\n",
    "#Área Total (m2)\n",
    "At=(2*46.5*37.2 + 46.5*42.0 + 37.2*42.0)*1e-4"
   ]
  },
  {
   "cell_type": "markdown",
   "metadata": {},
   "source": [
    "**(3.1) Implementando a função que representa as equações diferenciais para a primeira iteração**"
   ]
  },
  {
   "cell_type": "code",
   "execution_count": 8,
   "metadata": {},
   "outputs": [],
   "source": [
    "def funcaocontrolepot(Tar,temp_user):\n",
    "    #print(Tar,temp_user)\n",
    "    pot = 1\n",
    "    if Tar>=temp_user:\n",
    "        pot=0\n",
    "    elif Tar>temp_user-30:\n",
    "        pot=1-(((Tar)-(temp_user-30))/30)\n",
    "    else:\n",
    "        pot = 1\n",
    "    return pot\n",
    "\n",
    "def modelo_v2(x,t,temp_user):\n",
    "    temp_user+=273.15\n",
    "    Tar=x[0]\n",
    "    Tvidro=x[1]\n",
    "    Q1=P*float(funcaocontrolepot(Tar,temp_user))\n",
    "    #Q1=P\n",
    "    Qv=(Tar-Tvidro)/(dvidro/(kvidro*Avidro))\n",
    "    Q2=(Tvidro-Ta)/((dvidro/(kvidro*Avidro))+(1/(har*Avidro)))\n",
    "    Qs=(Tar-Ta)/((2*daco/(kaco*At))+(dceramica/(kceramica*At))+(1/(har*At)))\n",
    "    dTardt=(Q1-Qv-Qs)/(mar*car)\n",
    "    dTvidrodt=(Qv-Q2)/(mvidro*cvidro)\n",
    "    dxdt=[dTardt, dTvidrodt]\n",
    "    return dxdt"
   ]
  },
  {
   "cell_type": "markdown",
   "metadata": {},
   "source": [
    "**(3.2) Implementação a 1ª iteração**\n",
    "\n",
    "Com a capacidade de interagir com o gráfico variando a temperatura escolhida pela confeiteira, implementamos a 1ª iteração do modelo para as temperaturas disponíveis.\n"
   ]
  },
  {
   "cell_type": "code",
   "execution_count": 9,
   "metadata": {},
   "outputs": [
    {
     "data": {
      "application/vnd.jupyter.widget-view+json": {
       "model_id": "77287c4c7fd94500bb27bfb4d41a0664",
       "version_major": 2,
       "version_minor": 0
      },
      "text/plain": [
       "interactive(children=(IntSlider(value=260, description='Temperatura', max=360, min=180, step=20), Output(layou…"
      ]
     },
     "metadata": {},
     "output_type": "display_data"
    }
   ],
   "source": [
    "#rodando Odeint:\n",
    "def f(Temperatura):   \n",
    "    x=odeint(modelo_v2,x_0,lista_tempo,args=(Temperatura,))\n",
    "\n",
    "    lista_Tar_celsius=[temp-273.15 for temp in x[:,0]]\n",
    "    lista_Tvidro_celsius=[temp-273.15 for temp in x[:,1]]\n",
    "    lista_tempo_horas=[t/3600 for t in lista_tempo]\n",
    "\n",
    "    graficoTar=plt.plot(lista_tempo_horas, lista_Tar_celsius)\n",
    "    plt.setp(graficoTar,linewidth=1,color='r',label='Temperatura do Ar')\n",
    "    graficoTvidro=plt.plot(lista_tempo_horas, lista_Tvidro_celsius)\n",
    "    plt.setp(graficoTvidro,linewidth=1,color='c', label='Temperatura do Vidro')\n",
    "    plt.title('Variação da Temperatura pelo Tempo - Usuário escolheu: {0} °C'.format(Temperatura))\n",
    "    plt.xlabel(\"Tempo (h)\")\n",
    "    plt.ylabel(\"Temperatura (°C)\")\n",
    "    plt.yticks([0,50,100,150,200,250,300,350,400])\n",
    "    plt.legend()\n",
    "    plt.grid(True)\n",
    "    plt.show()\n",
    "    \n",
    "    \n",
    "interactive_plot = interactive(f,Temperatura=(180,360,20))\n",
    "output = interactive_plot.children[-1]\n",
    "output.layout.height = '350px'\n",
    "interactive_plot"
   ]
  },
  {
   "cell_type": "markdown",
   "metadata": {},
   "source": [
    "**(4) Segunda Iteração** "
   ]
  },
  {
   "cell_type": "markdown",
   "metadata": {},
   "source": [
    "Na segunda iteração foi percebida uma perda de calor considerável pela área do vidro. Para resolver essa incoerência, utilizaremos um sistema de duplos paineis de vidro com um gas inerte entre eles. O gás escolhido será o Argônio, tipicamente conhecido por suas capacidades de isolamento nesse contexto, e utilizado largamente pela indústria para construção de paineis de vidro duplo. Além disso, foi considerado o fluxo de convexção do ar dentro do forno até a porta de vidro. Assim, remodelando nosso esquema, considerando o estoque do vidro como sendo o painel em contato com o ar, temos:\n",
    "\n",
    "<left><img src=\"modelo_3iteracao.png\" width=400 style=\"float: center; margin: 0px 0px 10px 10px\"></left>\n",
    "<left><b>Figura 6: 3ª iteração do sistema térmico do forno de cozinha</b></left>\n",
    "\n",
    "Adicionando a condutividade térmica dos gases no nosso sistema de estoques e fluxos, temos:\n",
    "\n",
    "<left><img src=\"E&F_3iteracao.png\" width=800 style=\"float: center; margin: 0px 0px 10px 10px\"> \n",
    "<b>Figura 7: Modelo de estoques e fluxos da terceira iteração</b></left>\n",
    "\n",
    "Para facilitar a implementação, as equações que representam a iteração: \n",
    "\n",
    "$\\frac{dTar}{dt}=\\frac{1}{mar\\cdot car}\\cdot[\\dot{Q_1}-\\dot{Q_v}-\\dot{Q_s}]$\n",
    "\n",
    "$\\frac{dTvidro}{dt}=\\frac{1}{mvidro\\cdot cvidro}\\cdot[\\dot{Q_v}-\\dot{Q_2}]$\n",
    "\n",
    "Sendo:\n",
    "\n",
    "$\\dot{Q_1}=P$, para Tar < Tuser-30\n",
    "\n",
    "$\\dot{Q_1}=P\\cdot(1-\\frac{Tar-(Tuser-30)}{30})$, para Tar >= Tuser-30\n",
    "\n",
    "$\\dot{Q_v}=\\frac{Tar-Tvidro}{\\frac{1}{har\\cdot Avidro}+\\frac{dvidro}{kvidro\\cdot Avidro}+\\frac{1}{hargon\\cdot Avidro}+\\frac{\\frac{dvidro}{2}}{kvidro\\cdot Avidro}}$\n",
    "\n",
    "$\\dot{Q_s}=\\frac{Tar-Tamb}{\\frac{2*daco}{kaco\\cdot At}+\\frac{dceramica}{kceramica\\cdot At}+\\frac{1}{har\\cdot At}}$\n",
    "\n",
    "$\\dot{Q_2}=\\frac{Tvidro-Tamb}{\\frac{\\frac{dvidro}{2}}{kvidro\\cdot Avidro}+\\frac{1}{har\\cdot Avidro}}$\n"
   ]
  },
  {
   "cell_type": "markdown",
   "metadata": {},
   "source": [
    "Para esta iteração, foram adicionados e modificados os seguintes parametros:"
   ]
  },
  {
   "cell_type": "code",
   "execution_count": 10,
   "metadata": {},
   "outputs": [],
   "source": [
    "#convecção térmica do gás Árgonio --> 22mW/mK\n",
    "hargon=2\n",
    "#espessura do painel de vidro: 5mm --> 0.005m\n",
    "dvidro=0.005\n",
    "#Área do painel de vidro (m2)\n",
    "Avidro=40*25.2*1e-4\n",
    "#espessura do espaço do gás: 1cm --> 0.01m:\n",
    "dargon=0.01\n",
    "#Área do espaço interno para o gás é a mesma do vidro\n"
   ]
  },
  {
   "cell_type": "markdown",
   "metadata": {},
   "source": [
    "**(4.1) Implementando a função que representa as equações diferenciais para a primeira iteração**"
   ]
  },
  {
   "cell_type": "code",
   "execution_count": 11,
   "metadata": {},
   "outputs": [],
   "source": [
    "def funcaocontrolepot(Tar,temp_user):\n",
    "    #print(Tar,temp_user)\n",
    "    pot = 1\n",
    "    if Tar>=temp_user:\n",
    "        pot=0\n",
    "    elif Tar>temp_user-30:\n",
    "        pot=1-(((Tar)-(temp_user-30))/30)\n",
    "    else:\n",
    "        pot = 1\n",
    "    return pot\n",
    "\n",
    "def modelo_v3(x,t,temp_user):\n",
    "    temp_user+=273.15\n",
    "    Tar=x[0]\n",
    "    Tvidro=x[1]\n",
    "    Q1=P*float(funcaocontrolepot(Tar,temp_user))\n",
    "    #Q1=P\n",
    "    Qv=(Tar-Tvidro)/((1/(har*Avidro))+(dvidro/(kvidro*Avidro))+(1/(hargon*Avidro))+((dvidro/2)/(kvidro*Avidro)))\n",
    "    Q2=(Tvidro-Ta)/(((dvidro/2)/(kvidro*Avidro))+(1/(har*Avidro)))\n",
    "    Qs=(Tar-Ta)/((2*daco/(kaco*At))+(dceramica/(kceramica*At))+(1/(har*At)))\n",
    "    dTardt=(Q1-Qv-Qs)/(mar*car)\n",
    "    dTvidrodt=(Qv-Q2)/(mvidro*cvidro)\n",
    "    dxdt=[dTardt, dTvidrodt]\n",
    "    return dxdt"
   ]
  },
  {
   "cell_type": "markdown",
   "metadata": {},
   "source": [
    "**(4.2) Implementação a 2ª iteração**"
   ]
  },
  {
   "cell_type": "code",
   "execution_count": 12,
   "metadata": {},
   "outputs": [
    {
     "data": {
      "application/vnd.jupyter.widget-view+json": {
       "model_id": "9a582f199dcc40eaa59dc61dacf358a3",
       "version_major": 2,
       "version_minor": 0
      },
      "text/plain": [
       "interactive(children=(IntSlider(value=260, description='Temperatura', max=360, min=180, step=20), Output(layou…"
      ]
     },
     "metadata": {},
     "output_type": "display_data"
    }
   ],
   "source": [
    "#rodando Odeint:\n",
    "def f(Temperatura):   \n",
    "    x=odeint(modelo_v3,x_0,lista_tempo,args=(Temperatura,))\n",
    "\n",
    "    lista_Tar_celsius=[temp-273.15 for temp in x[:,0]]\n",
    "    lista_Tvidro_celsius=[temp-273.15 for temp in x[:,1]]\n",
    "    lista_tempo_horas=[t/3600 for t in lista_tempo]\n",
    "\n",
    "    graficoTar=plt.plot(lista_tempo_horas, lista_Tar_celsius)\n",
    "    plt.setp(graficoTar,linewidth=1,color='r',label='Temperatura do Ar')\n",
    "    graficoTvidro=plt.plot(lista_tempo_horas, lista_Tvidro_celsius)\n",
    "    plt.setp(graficoTvidro,linewidth=1,color='c', label='Temperatura do Vidro')\n",
    "    plt.title('Variação da Temperatura pelo Tempo - Usuário escolheu: {0} °C'.format(Temperatura))\n",
    "    plt.xlabel(\"Tempo (h)\")\n",
    "    plt.ylabel(\"Temperatura (°C)\")\n",
    "    plt.yticks([0,50,100,150,200,250,300,350,400])\n",
    "    plt.legend()\n",
    "    plt.grid(True)\n",
    "    plt.show()\n",
    "    \n",
    "    \n",
    "interactive_plot = interactive(f,Temperatura=(180,360,20))\n",
    "output = interactive_plot.children[-1]\n",
    "output.layout.height = '350px'\n",
    "interactive_plot"
   ]
  },
  {
   "cell_type": "markdown",
   "metadata": {},
   "source": [
    "**(5) Validação dos resultados** \n",
    "\n",
    "Com o nosso modelo refinado, vamos compará-lo com os dados medidos do forno para validação:"
   ]
  },
  {
   "cell_type": "code",
   "execution_count": 13,
   "metadata": {},
   "outputs": [
    {
     "data": {
      "image/png": "[encoded data removed]",
      "text/plain": [
       "<Figure size 432x288 with 1 Axes>"
      ]
     },
     "metadata": {
      "needs_background": "light"
     },
     "output_type": "display_data"
    }
   ],
   "source": [
    "x=odeint(modelo_v3,x_0,lista_tempo,args=(220,))\n",
    "Tar_modelo=[temp-273.15 for temp in x[:,0]]\n",
    "Tvidro_modelo=[temp-273.15 for temp in x[:,1]]\n",
    "\n",
    "ax=plt.axes()\n",
    "plt.plot(lista_tempo_horas, Tar_modelo, 'r', linewidth=2, label='Tar modelo')\n",
    "plt.plot(lista_tempo_horas, Tvidro_modelo, 'c', linewidth=2, label='Tvidro modelo')\n",
    "plt.plot((DadosMedidos()[0]/60), DadosMedidos()[1], 'yo', markersize=4, label='Tar experimental')\n",
    "plt.plot((DadosMedidos()[0]/60), DadosMedidos()[2], 'bo', markersize=4, label='Tvidro experimental')\n",
    "plt.xlabel(\"Tempo (h)\")\n",
    "plt.ylabel(\"Temperatura (°C)\")\n",
    "plt.title('Validação do modelo')\n",
    "plt.legend()\n",
    "plt.grid(True)\n",
    "plt.show()"
   ]
  },
  {
   "cell_type": "markdown",
   "metadata": {},
   "source": [
    "**(5.1) Conclusão da Validação**\n",
    "- Os dados experimentais da temperatura interna do forno validam o modelo, uma vez que se aproximam da linha plotada.\n",
    "\n",
    "\n",
    "- A divergência relativa à temperatura do vidro se deve por termos utilizado o termômetro em sua parte externa pois não havia a possibilidade de se colocar no interior do painel externo."
   ]
  },
  {
   "cell_type": "markdown",
   "metadata": {},
   "source": [
    "**(6) Respondendo às perguntas:**\n",
    "\n",
    "Com o modelo validado, podemos responder às perguntas que iniciaram o projeto:\n",
    "\n",
    "- **Qual o tempo necessário para se estabilizar a temperatura escolhida pela confeiteira?**\n",
    "- **Qual a variação entre a temperatura do vidro e a temperatura interna do forno para cada temperatura escolhida pela confeiteira?**\n",
    "\n",
    "Utilizando gráficos conclusivos, as respostas foram plotadas, gerando gráficos lineares coerentes."
   ]
  },
  {
   "cell_type": "code",
   "execution_count": 14,
   "metadata": {},
   "outputs": [
    {
     "data": {
      "image/png": "[encoded data removed]",
      "text/plain": [
       "<Figure size 432x288 with 1 Axes>"
      ]
     },
     "metadata": {
      "needs_background": "light"
     },
     "output_type": "display_data"
    },
    {
     "data": {
      "image/png": "[encoded data removed]",
      "text/plain": [
       "<Figure size 432x288 with 1 Axes>"
      ]
     },
     "metadata": {
      "needs_background": "light"
     },
     "output_type": "display_data"
    }
   ],
   "source": [
    "#pergunta 1:\n",
    "Temperatura_user=[180,200,220,240,260,280,300,320,340,360]\n",
    "tempo_estavel_seg=[]\n",
    "tempo_estavel=[]\n",
    "temperatura_estavel=[]\n",
    "\n",
    "for Tuser in Temperatura_user:\n",
    "    x=odeint(modelo_v3,x_0,lista_tempo,args=(Tuser,))\n",
    "    lista_Tar_celsius=[temp-273.15 for temp in x[:,0]]\n",
    "    Testavel=0.015*Tuser\n",
    "    for i in range(len(lista_tempo)):\n",
    "        if lista_Tar_celsius[i]>Tuser-Testavel:\n",
    "            tempo_estavel_seg.append(lista_tempo[i])\n",
    "            tempo_estavel.append(lista_tempo[i]/60)\n",
    "            temperatura_estavel.append(lista_Tar_celsius[i])\n",
    "            break\n",
    "\n",
    "ax=plt.axes()\n",
    "plt.plot(temperatura_estavel, tempo_estavel, 'c')\n",
    "plt.plot(temperatura_estavel, tempo_estavel, 'ro', markersize=4)\n",
    "ax.set_facecolor('xkcd:ivory')\n",
    "plt.xlabel(\"Temperatura (°C)\")\n",
    "plt.ylabel(\"Tempo (min)\")\n",
    "plt.title('Gráfico conclusivo da pergunta 1')\n",
    "plt.grid(True)\n",
    "plt.show()\n",
    "\n",
    "\n",
    "#pergunta 2:\n",
    "delta_Temperatura=[]\n",
    "Temperatura_Forno=[]\n",
    "\n",
    "for j in range(len(Temperatura_user)):\n",
    "    x=odeint(modelo_v3,x_0,lista_tempo,args=(Temperatura_user[j],))\n",
    "    lista_Tvidro_celsius=[temp-273.15 for temp in x[:,1]]\n",
    "    Testavel=tempo_estavel_seg[j]\n",
    "    deltaT=temperatura_estavel[j]-lista_Tvidro_celsius[Testavel-1]\n",
    "    delta_Temperatura.append(deltaT)\n",
    "    \n",
    "ax=plt.axes()\n",
    "plt.plot(temperatura_estavel, delta_Temperatura, 'c')\n",
    "plt.plot(temperatura_estavel, delta_Temperatura, 'ro', markersize=4)\n",
    "ax.set_facecolor('xkcd:ivory')\n",
    "plt.xlabel(\"Temperatura (°C)\")\n",
    "plt.ylabel(\"Variação de Temperatura (°C)\")\n",
    "plt.title('Gráfico conclusivo da pergunta 2')\n",
    "plt.grid(True)\n",
    "plt.show()"
   ]
  },
  {
   "cell_type": "code",
   "execution_count": null,
   "metadata": {},
   "outputs": [],
   "source": []
  }
 ],
 "metadata": {
  "kernelspec": {
   "display_name": "Python 3",
   "language": "python",
   "name": "python3"
  },
  "language_info": {
   "codemirror_mode": {
    "name": "ipython",
    "version": 3
   },
   "file_extension": ".py",
   "mimetype": "text/x-python",
   "name": "python",
   "nbconvert_exporter": "python",
   "pygments_lexer": "ipython3",
   "version": "3.7.4"
  }
 },
 "nbformat": 4,
 "nbformat_minor": 1
}
